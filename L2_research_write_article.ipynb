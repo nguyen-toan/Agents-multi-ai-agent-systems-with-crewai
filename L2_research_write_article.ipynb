{
 "cells": [
  {
   "cell_type": "markdown",
   "metadata": {},
   "source": [
    "You can download the `requirements.txt` for this course from the workspace of this lab. `File --> Open...`"
   ]
  },
  {
   "cell_type": "markdown",
   "metadata": {},
   "source": [
    "# L2: Create Agents to Research and Write an Article\n",
    "\n",
    "In this lesson, you will be introduced to the foundational concepts of multi-agent systems and get an overview of the crewAI framework."
   ]
  },
  {
   "cell_type": "markdown",
   "metadata": {},
   "source": [
    "The libraries are already installed in the classroom. If you're running this notebook on your own machine, you can install the following:\n",
    "```Python\n",
    "!pip install crewai==0.28.8 crewai_tools==0.1.6 langchain_community==0.0.29\n",
    "```"
   ]
  },
  {
   "cell_type": "code",
   "execution_count": 2,
   "metadata": {
    "height": 64
   },
   "outputs": [],
   "source": [
    "# Warning control\n",
    "import warnings\n",
    "warnings.filterwarnings('ignore')"
   ]
  },
  {
   "cell_type": "markdown",
   "metadata": {},
   "source": [
    "- Import from the crewAI libray."
   ]
  },
  {
   "cell_type": "code",
   "execution_count": 3,
   "metadata": {
    "height": 30
   },
   "outputs": [],
   "source": [
    "from crewai import Agent, Task, Crew"
   ]
  },
  {
   "cell_type": "markdown",
   "metadata": {},
   "source": [
    "- As a LLM for your agents, you'll be using OpenAI's `gpt-3.5-turbo`.\n",
    "\n",
    "**Optional Note:** crewAI also allow other popular models to be used as a LLM for your Agents. You can see some of the examples at the [bottom of the notebook](#1)."
   ]
  },
  {
   "cell_type": "code",
   "execution_count": 4,
   "metadata": {
    "height": 98
   },
   "outputs": [],
   "source": [
    "import os\n",
    "from utils import get_openai_api_key\n",
    "\n",
    "openai_api_key = get_openai_api_key()\n",
    "os.environ[\"OPENAI_MODEL_NAME\"] = 'gpt-3.5-turbo'"
   ]
  },
  {
   "cell_type": "markdown",
   "metadata": {},
   "source": [
    "## Creating Agents\n",
    "\n",
    "- Define your Agents, and provide them a `role`, `goal` and `backstory`.\n",
    "- It has been seen that LLMs perform better when they are role playing."
   ]
  },
  {
   "cell_type": "markdown",
   "metadata": {},
   "source": [
    "### Agent: Planner\n",
    "\n",
    "**Note**: The benefit of using _multiple strings_ :\n",
    "```Python\n",
    "varname = \"line 1 of text\"\n",
    "          \"line 2 of text\"\n",
    "```\n",
    "\n",
    "versus the _triple quote docstring_:\n",
    "```Python\n",
    "varname = \"\"\"line 1 of text\n",
    "             line 2 of text\n",
    "          \"\"\"\n",
    "```\n",
    "is that it can avoid adding those whitespaces and newline characters, making it better formatted to be passed to the LLM."
   ]
  },
  {
   "cell_type": "code",
   "execution_count": 5,
   "metadata": {
    "height": 234
   },
   "outputs": [],
   "source": [
    "planner = Agent(\n",
    "    role=\"Content Planner\",\n",
    "    goal=\"Plan engaging and factually accurate content on {topic}\",\n",
    "    backstory=\"You're working on planning a blog article \"\n",
    "              \"about the topic: {topic}.\"\n",
    "              \"You collect information that helps the \"\n",
    "              \"audience learn something \"\n",
    "              \"and make informed decisions. \"\n",
    "              \"Your work is the basis for \"\n",
    "              \"the Content Writer to write an article on this topic.\",\n",
    "    allow_delegation=False,\n",
    "\tverbose=True\n",
    ")"
   ]
  },
  {
   "cell_type": "markdown",
   "metadata": {},
   "source": [
    "### Agent: Writer"
   ]
  },
  {
   "cell_type": "code",
   "execution_count": 6,
   "metadata": {
    "height": 370
   },
   "outputs": [],
   "source": [
    "writer = Agent(\n",
    "    role=\"Content Writer\",\n",
    "    goal=\"Write insightful and factually accurate \"\n",
    "         \"opinion piece about the topic: {topic}\",\n",
    "    backstory=\"You're working on a writing \"\n",
    "              \"a new opinion piece about the topic: {topic}. \"\n",
    "              \"You base your writing on the work of \"\n",
    "              \"the Content Planner, who provides an outline \"\n",
    "              \"and relevant context about the topic. \"\n",
    "              \"You follow the main objectives and \"\n",
    "              \"direction of the outline, \"\n",
    "              \"as provide by the Content Planner. \"\n",
    "              \"You also provide objective and impartial insights \"\n",
    "              \"and back them up with information \"\n",
    "              \"provide by the Content Planner. \"\n",
    "              \"You acknowledge in your opinion piece \"\n",
    "              \"when your statements are opinions \"\n",
    "              \"as opposed to objective statements.\",\n",
    "    allow_delegation=False,\n",
    "    verbose=True\n",
    ")"
   ]
  },
  {
   "cell_type": "markdown",
   "metadata": {},
   "source": [
    "### Agent: Editor"
   ]
  },
  {
   "cell_type": "code",
   "execution_count": 7,
   "metadata": {
    "height": 268
   },
   "outputs": [],
   "source": [
    "editor = Agent(\n",
    "    role=\"Editor\",\n",
    "    goal=\"Edit a given blog post to align with \"\n",
    "         \"the writing style of the organization. \",\n",
    "    backstory=\"You are an editor who receives a blog post \"\n",
    "              \"from the Content Writer. \"\n",
    "              \"Your goal is to review the blog post \"\n",
    "              \"to ensure that it follows journalistic best practices,\"\n",
    "              \"provides balanced viewpoints \"\n",
    "              \"when providing opinions or assertions, \"\n",
    "              \"and also avoids major controversial topics \"\n",
    "              \"or opinions when possible.\",\n",
    "    allow_delegation=False,\n",
    "    verbose=True\n",
    ")"
   ]
  },
  {
   "cell_type": "markdown",
   "metadata": {},
   "source": [
    "## Creating Tasks\n",
    "\n",
    "- Define your Tasks, and provide them a `description`, `expected_output` and `agent`."
   ]
  },
  {
   "cell_type": "markdown",
   "metadata": {},
   "source": [
    "### Task: Plan"
   ]
  },
  {
   "cell_type": "code",
   "execution_count": 8,
   "metadata": {
    "height": 268
   },
   "outputs": [],
   "source": [
    "plan = Task(\n",
    "    description=(\n",
    "        \"1. Prioritize the latest trends, key players, \"\n",
    "            \"and noteworthy news on {topic}.\\n\"\n",
    "        \"2. Identify the target audience, considering \"\n",
    "            \"their interests and pain points.\\n\"\n",
    "        \"3. Develop a detailed content outline including \"\n",
    "            \"an introduction, key points, and a call to action.\\n\"\n",
    "        \"4. Include SEO keywords and relevant data or sources.\"\n",
    "    ),\n",
    "    expected_output=\"A comprehensive content plan document \"\n",
    "        \"with an outline, audience analysis, \"\n",
    "        \"SEO keywords, and resources.\",\n",
    "    agent=planner,\n",
    ")"
   ]
  },
  {
   "cell_type": "markdown",
   "metadata": {},
   "source": [
    "### Task: Write"
   ]
  },
  {
   "cell_type": "code",
   "execution_count": 9,
   "metadata": {
    "height": 319
   },
   "outputs": [],
   "source": [
    "write = Task(\n",
    "    description=(\n",
    "        \"1. Use the content plan to craft a compelling \"\n",
    "            \"blog post on {topic}.\\n\"\n",
    "        \"2. Incorporate SEO keywords naturally.\\n\"\n",
    "\t\t\"3. Sections/Subtitles are properly named \"\n",
    "            \"in an engaging manner.\\n\"\n",
    "        \"4. Ensure the post is structured with an \"\n",
    "            \"engaging introduction, insightful body, \"\n",
    "            \"and a summarizing conclusion.\\n\"\n",
    "        \"5. Proofread for grammatical errors and \"\n",
    "            \"alignment with the brand's voice.\\n\"\n",
    "    ),\n",
    "    expected_output=\"A well-written blog post \"\n",
    "        \"in markdown format, ready for publication, \"\n",
    "        \"each section should have 2 or 3 paragraphs.\",\n",
    "    agent=writer,\n",
    ")"
   ]
  },
  {
   "cell_type": "markdown",
   "metadata": {},
   "source": [
    "### Task: Edit"
   ]
  },
  {
   "cell_type": "code",
   "execution_count": 10,
   "metadata": {
    "height": 166
   },
   "outputs": [],
   "source": [
    "edit = Task(\n",
    "    description=(\"Proofread the given blog post for \"\n",
    "                 \"grammatical errors and \"\n",
    "                 \"alignment with the brand's voice.\"),\n",
    "    expected_output=\"A well-written blog post in markdown format, \"\n",
    "                    \"ready for publication, \"\n",
    "                    \"each section should have 2 or 3 paragraphs.\",\n",
    "    agent=editor\n",
    ")"
   ]
  },
  {
   "cell_type": "markdown",
   "metadata": {},
   "source": [
    "## Creating the Crew\n",
    "\n",
    "- Create your crew of Agents\n",
    "- Pass the tasks to be performed by those agents.\n",
    "    - **Note**: *For this simple example*, the tasks will be performed sequentially (i.e they are dependent on each other), so the _order_ of the task in the list _matters_.\n",
    "- `verbose=2` allows you to see all the logs of the execution. "
   ]
  },
  {
   "cell_type": "code",
   "execution_count": 11,
   "metadata": {
    "height": 98
   },
   "outputs": [],
   "source": [
    "crew = Crew(\n",
    "    agents=[planner, writer, editor],\n",
    "    tasks=[plan, write, edit],\n",
    "    verbose=2\n",
    ")"
   ]
  },
  {
   "cell_type": "markdown",
   "metadata": {},
   "source": [
    "## Running the Crew"
   ]
  },
  {
   "cell_type": "markdown",
   "metadata": {},
   "source": [
    "**Note**: LLMs can provide different outputs for they same input, so what you get might be different than what you see in the video."
   ]
  },
  {
   "cell_type": "code",
   "execution_count": 12,
   "metadata": {
    "height": 30
   },
   "outputs": [
    {
     "name": "stdout",
     "output_type": "stream",
     "text": [
      "\u001b[1m\u001b[95m [DEBUG]: == Working Agent: Content Planner\u001b[00m\n",
      "\u001b[1m\u001b[95m [INFO]: == Starting Task: 1. Prioritize the latest trends, key players, and noteworthy news on Artificial Intelligence.\n",
      "2. Identify the target audience, considering their interests and pain points.\n",
      "3. Develop a detailed content outline including an introduction, key points, and a call to action.\n",
      "4. Include SEO keywords and relevant data or sources.\u001b[00m\n",
      "\n",
      "\n",
      "\u001b[1m> Entering new CrewAgentExecutor chain...\u001b[0m\n",
      "\u001b[32;1m\u001b[1;3mI now can give a great answer\n",
      "\n",
      "Final Answer: \n",
      "\n",
      "Content Plan: \n",
      "Title: The Future of Artificial Intelligence: Latest Trends and Key Players\n",
      "\n",
      "Introduction:\n",
      "- Brief overview of the rapid advancements in artificial intelligence technology.\n",
      "- Mention of the key players in the industry and their contributions.\n",
      "- Introduction to the target audience and why this topic is relevant to them.\n",
      "- SEO keywords: artificial intelligence trends, AI key players, future of AI.\n",
      "\n",
      "Key Points:\n",
      "1. Latest Trends in Artificial Intelligence:\n",
      "- Machine learning and deep learning advancements.\n",
      "- Natural language processing and sentiment analysis.\n",
      "- AI in healthcare, finance, and other industries.\n",
      "- Ethical considerations in AI development.\n",
      "- SEO keywords: AI trends 2021, emerging AI technologies.\n",
      "\n",
      "2. Key Players in the AI Industry:\n",
      "- Google, Microsoft, Amazon, and other tech giants.\n",
      "- Startups disrupting the AI space.\n",
      "- Research institutions and academia driving innovation.\n",
      "- Profiles of influential AI experts and thought leaders.\n",
      "- SEO keywords: top AI companies, AI industry leaders.\n",
      "\n",
      "3. Noteworthy News in Artificial Intelligence:\n",
      "- Recent breakthroughs in AI research.\n",
      "- Industry collaborations and partnerships.\n",
      "- Regulatory developments impacting AI adoption.\n",
      "- Case studies of successful AI implementations.\n",
      "- SEO keywords: AI news, AI updates, AI advancements.\n",
      "\n",
      "Audience Analysis:\n",
      "- Target Audience: Tech enthusiasts, industry professionals, business leaders.\n",
      "- Interests: Emerging technologies, innovation, future trends.\n",
      "- Pain Points: Understanding complex AI concepts, staying up-to-date with industry news.\n",
      "- Call to Action: Encourage readers to subscribe for regular updates on AI trends and news.\n",
      "\n",
      "Resources:\n",
      "- Sources: Forbes, TechCrunch, MIT Technology Review, AI research papers.\n",
      "- Data: Statistics on AI market growth, survey results on AI adoption rates.\n",
      "- Tools: AI-powered content creation platforms, chatbots, virtual assistants.\n",
      "- SEO Tools: SEMrush, Google Keyword Planner, Moz Keyword Explorer.\n",
      "\n",
      "By following this comprehensive content plan, the blog article on the latest trends and key players in artificial intelligence will provide valuable insights to the target audience and help them make informed decisions in the rapidly evolving AI landscape.\u001b[0m\n",
      "\n",
      "\u001b[1m> Finished chain.\u001b[0m\n",
      "\u001b[1m\u001b[92m [DEBUG]: == [Content Planner] Task output: Content Plan: \n",
      "Title: The Future of Artificial Intelligence: Latest Trends and Key Players\n",
      "\n",
      "Introduction:\n",
      "- Brief overview of the rapid advancements in artificial intelligence technology.\n",
      "- Mention of the key players in the industry and their contributions.\n",
      "- Introduction to the target audience and why this topic is relevant to them.\n",
      "- SEO keywords: artificial intelligence trends, AI key players, future of AI.\n",
      "\n",
      "Key Points:\n",
      "1. Latest Trends in Artificial Intelligence:\n",
      "- Machine learning and deep learning advancements.\n",
      "- Natural language processing and sentiment analysis.\n",
      "- AI in healthcare, finance, and other industries.\n",
      "- Ethical considerations in AI development.\n",
      "- SEO keywords: AI trends 2021, emerging AI technologies.\n",
      "\n",
      "2. Key Players in the AI Industry:\n",
      "- Google, Microsoft, Amazon, and other tech giants.\n",
      "- Startups disrupting the AI space.\n",
      "- Research institutions and academia driving innovation.\n",
      "- Profiles of influential AI experts and thought leaders.\n",
      "- SEO keywords: top AI companies, AI industry leaders.\n",
      "\n",
      "3. Noteworthy News in Artificial Intelligence:\n",
      "- Recent breakthroughs in AI research.\n",
      "- Industry collaborations and partnerships.\n",
      "- Regulatory developments impacting AI adoption.\n",
      "- Case studies of successful AI implementations.\n",
      "- SEO keywords: AI news, AI updates, AI advancements.\n",
      "\n",
      "Audience Analysis:\n",
      "- Target Audience: Tech enthusiasts, industry professionals, business leaders.\n",
      "- Interests: Emerging technologies, innovation, future trends.\n",
      "- Pain Points: Understanding complex AI concepts, staying up-to-date with industry news.\n",
      "- Call to Action: Encourage readers to subscribe for regular updates on AI trends and news.\n",
      "\n",
      "Resources:\n",
      "- Sources: Forbes, TechCrunch, MIT Technology Review, AI research papers.\n",
      "- Data: Statistics on AI market growth, survey results on AI adoption rates.\n",
      "- Tools: AI-powered content creation platforms, chatbots, virtual assistants.\n",
      "- SEO Tools: SEMrush, Google Keyword Planner, Moz Keyword Explorer.\n",
      "\n",
      "By following this comprehensive content plan, the blog article on the latest trends and key players in artificial intelligence will provide valuable insights to the target audience and help them make informed decisions in the rapidly evolving AI landscape.\n",
      "\n",
      "\u001b[00m\n",
      "\u001b[1m\u001b[95m [DEBUG]: == Working Agent: Content Writer\u001b[00m\n",
      "\u001b[1m\u001b[95m [INFO]: == Starting Task: 1. Use the content plan to craft a compelling blog post on Artificial Intelligence.\n",
      "2. Incorporate SEO keywords naturally.\n",
      "3. Sections/Subtitles are properly named in an engaging manner.\n",
      "4. Ensure the post is structured with an engaging introduction, insightful body, and a summarizing conclusion.\n",
      "5. Proofread for grammatical errors and alignment with the brand's voice.\n",
      "\u001b[00m\n",
      "\n",
      "\n",
      "\u001b[1m> Entering new CrewAgentExecutor chain...\u001b[0m\n",
      "\u001b[32;1m\u001b[1;3mI am ready to craft a compelling blog post on the future of Artificial Intelligence, incorporating the latest trends and key players in the industry. By following the content plan provided, I will ensure that the article is engaging, informative, and aligned with the target audience's interests.\n",
      "\n",
      "Final Answer:\n",
      "\n",
      "# The Future of Artificial Intelligence: Latest Trends and Key Players\n",
      "\n",
      "**Introduction:**\n",
      "Artificial Intelligence (AI) has been rapidly advancing in recent years, reshaping various industries and revolutionizing the way we interact with technology. Key players in the AI industry, such as Google, Microsoft, and Amazon, have been at the forefront of driving innovation and pushing the boundaries of what AI can achieve. In this blog post, we will explore the latest trends in artificial intelligence and delve into the key players shaping the future of AI.\n",
      "\n",
      "**Latest Trends in Artificial Intelligence:**\n",
      "One of the most significant trends in AI is the advancements in machine learning and deep learning algorithms, enabling machines to learn from data and make predictions without explicit programming. Natural language processing and sentiment analysis have also seen significant progress, allowing AI systems to understand and generate human language with increasing accuracy. AI is increasingly being applied in healthcare, finance, and other industries, transforming processes and improving efficiency. However, as AI continues to evolve, ethical considerations in its development have become more prominent, raising questions about privacy, bias, and accountability.\n",
      "\n",
      "**Key Players in the AI Industry:**\n",
      "Tech giants like Google, Microsoft, and Amazon are leading the way in AI research and development, leveraging their resources and expertise to drive innovation. In addition to established companies, startups are disrupting the AI space with fresh ideas and agile approaches. Research institutions and academia play a crucial role in advancing AI technologies, collaborating with industry partners to push the boundaries of what AI can achieve. Influential AI experts and thought leaders are also shaping the conversation around AI, sharing insights and driving the industry forward.\n",
      "\n",
      "**Noteworthy News in Artificial Intelligence:**\n",
      "Recent breakthroughs in AI research, such as advancements in computer vision and reinforcement learning, have captured the industry's attention and sparked excitement about the possibilities of AI. Industry collaborations and partnerships are fostering innovation and accelerating the pace of AI development. Regulatory developments are also impacting AI adoption, with governments and organizations working to establish guidelines and standards for ethical AI use. Case studies of successful AI implementations showcase the tangible benefits of adopting AI technologies in various sectors, from healthcare to finance.\n",
      "\n",
      "**Conclusion:**\n",
      "As AI continues to evolve and shape the future of technology, staying informed about the latest trends and key players in the industry is essential for tech enthusiasts, industry professionals, and business leaders. By understanding the advancements in AI technologies and the contributions of key players, individuals can make informed decisions and stay ahead of the curve in the rapidly evolving AI landscape. Subscribe for regular updates on AI trends and news to stay informed and engaged with the exciting developments in artificial intelligence.\u001b[0m\n",
      "\n",
      "\u001b[1m> Finished chain.\u001b[0m\n",
      "\u001b[1m\u001b[92m [DEBUG]: == [Content Writer] Task output: # The Future of Artificial Intelligence: Latest Trends and Key Players\n",
      "\n",
      "**Introduction:**\n",
      "Artificial Intelligence (AI) has been rapidly advancing in recent years, reshaping various industries and revolutionizing the way we interact with technology. Key players in the AI industry, such as Google, Microsoft, and Amazon, have been at the forefront of driving innovation and pushing the boundaries of what AI can achieve. In this blog post, we will explore the latest trends in artificial intelligence and delve into the key players shaping the future of AI.\n",
      "\n",
      "**Latest Trends in Artificial Intelligence:**\n",
      "One of the most significant trends in AI is the advancements in machine learning and deep learning algorithms, enabling machines to learn from data and make predictions without explicit programming. Natural language processing and sentiment analysis have also seen significant progress, allowing AI systems to understand and generate human language with increasing accuracy. AI is increasingly being applied in healthcare, finance, and other industries, transforming processes and improving efficiency. However, as AI continues to evolve, ethical considerations in its development have become more prominent, raising questions about privacy, bias, and accountability.\n",
      "\n",
      "**Key Players in the AI Industry:**\n",
      "Tech giants like Google, Microsoft, and Amazon are leading the way in AI research and development, leveraging their resources and expertise to drive innovation. In addition to established companies, startups are disrupting the AI space with fresh ideas and agile approaches. Research institutions and academia play a crucial role in advancing AI technologies, collaborating with industry partners to push the boundaries of what AI can achieve. Influential AI experts and thought leaders are also shaping the conversation around AI, sharing insights and driving the industry forward.\n",
      "\n",
      "**Noteworthy News in Artificial Intelligence:**\n",
      "Recent breakthroughs in AI research, such as advancements in computer vision and reinforcement learning, have captured the industry's attention and sparked excitement about the possibilities of AI. Industry collaborations and partnerships are fostering innovation and accelerating the pace of AI development. Regulatory developments are also impacting AI adoption, with governments and organizations working to establish guidelines and standards for ethical AI use. Case studies of successful AI implementations showcase the tangible benefits of adopting AI technologies in various sectors, from healthcare to finance.\n",
      "\n",
      "**Conclusion:**\n",
      "As AI continues to evolve and shape the future of technology, staying informed about the latest trends and key players in the industry is essential for tech enthusiasts, industry professionals, and business leaders. By understanding the advancements in AI technologies and the contributions of key players, individuals can make informed decisions and stay ahead of the curve in the rapidly evolving AI landscape. Subscribe for regular updates on AI trends and news to stay informed and engaged with the exciting developments in artificial intelligence.\n",
      "\n",
      "\u001b[00m\n",
      "\u001b[1m\u001b[95m [DEBUG]: == Working Agent: Editor\u001b[00m\n",
      "\u001b[1m\u001b[95m [INFO]: == Starting Task: Proofread the given blog post for grammatical errors and alignment with the brand's voice.\u001b[00m\n",
      "\n",
      "\n",
      "\u001b[1m> Entering new CrewAgentExecutor chain...\u001b[0m\n"
     ]
    },
    {
     "name": "stdout",
     "output_type": "stream",
     "text": [
      "\u001b[32;1m\u001b[1;3mI now can give a great answer\n",
      "\n",
      "Final Answer: \n",
      "\n",
      "# The Future of Artificial Intelligence: Latest Trends and Key Players\n",
      "\n",
      "**Introduction:**\n",
      "Artificial Intelligence (AI) has been rapidly advancing in recent years, reshaping various industries and revolutionizing the way we interact with technology. Key players in the AI industry, such as Google, Microsoft, and Amazon, have been at the forefront of driving innovation and pushing the boundaries of what AI can achieve. In this blog post, we will explore the latest trends in artificial intelligence and delve into the key players shaping the future of AI.\n",
      "\n",
      "**Latest Trends in Artificial Intelligence:**\n",
      "One of the most significant trends in AI is the advancements in machine learning and deep learning algorithms, enabling machines to learn from data and make predictions without explicit programming. Natural language processing and sentiment analysis have also seen significant progress, allowing AI systems to understand and generate human language with increasing accuracy. AI is increasingly being applied in healthcare, finance, and other industries, transforming processes and improving efficiency. However, as AI continues to evolve, ethical considerations in its development have become more prominent, raising questions about privacy, bias, and accountability.\n",
      "\n",
      "**Key Players in the AI Industry:**\n",
      "Tech giants like Google, Microsoft, and Amazon are leading the way in AI research and development, leveraging their resources and expertise to drive innovation. In addition to established companies, startups are disrupting the AI space with fresh ideas and agile approaches. Research institutions and academia play a crucial role in advancing AI technologies, collaborating with industry partners to push the boundaries of what AI can achieve. Influential AI experts and thought leaders are also shaping the conversation around AI, sharing insights and driving the industry forward.\n",
      "\n",
      "**Noteworthy News in Artificial Intelligence:**\n",
      "Recent breakthroughs in AI research, such as advancements in computer vision and reinforcement learning, have captured the industry's attention and sparked excitement about the possibilities of AI. Industry collaborations and partnerships are fostering innovation and accelerating the pace of AI development. Regulatory developments are also impacting AI adoption, with governments and organizations working to establish guidelines and standards for ethical AI use. Case studies of successful AI implementations showcase the tangible benefits of adopting AI technologies in various sectors, from healthcare to finance.\n",
      "\n",
      "**Conclusion:**\n",
      "As AI continues to evolve and shape the future of technology, staying informed about the latest trends and key players in the industry is essential for tech enthusiasts, industry professionals, and business leaders. By understanding the advancements in AI technologies and the contributions of key players, individuals can make informed decisions and stay ahead of the curve in the rapidly evolving AI landscape. Subscribe for regular updates on AI trends and news to stay informed and engaged with the exciting developments in artificial intelligence.\u001b[0m\n",
      "\n",
      "\u001b[1m> Finished chain.\u001b[0m\n",
      "\u001b[1m\u001b[92m [DEBUG]: == [Editor] Task output: # The Future of Artificial Intelligence: Latest Trends and Key Players\n",
      "\n",
      "**Introduction:**\n",
      "Artificial Intelligence (AI) has been rapidly advancing in recent years, reshaping various industries and revolutionizing the way we interact with technology. Key players in the AI industry, such as Google, Microsoft, and Amazon, have been at the forefront of driving innovation and pushing the boundaries of what AI can achieve. In this blog post, we will explore the latest trends in artificial intelligence and delve into the key players shaping the future of AI.\n",
      "\n",
      "**Latest Trends in Artificial Intelligence:**\n",
      "One of the most significant trends in AI is the advancements in machine learning and deep learning algorithms, enabling machines to learn from data and make predictions without explicit programming. Natural language processing and sentiment analysis have also seen significant progress, allowing AI systems to understand and generate human language with increasing accuracy. AI is increasingly being applied in healthcare, finance, and other industries, transforming processes and improving efficiency. However, as AI continues to evolve, ethical considerations in its development have become more prominent, raising questions about privacy, bias, and accountability.\n",
      "\n",
      "**Key Players in the AI Industry:**\n",
      "Tech giants like Google, Microsoft, and Amazon are leading the way in AI research and development, leveraging their resources and expertise to drive innovation. In addition to established companies, startups are disrupting the AI space with fresh ideas and agile approaches. Research institutions and academia play a crucial role in advancing AI technologies, collaborating with industry partners to push the boundaries of what AI can achieve. Influential AI experts and thought leaders are also shaping the conversation around AI, sharing insights and driving the industry forward.\n",
      "\n",
      "**Noteworthy News in Artificial Intelligence:**\n",
      "Recent breakthroughs in AI research, such as advancements in computer vision and reinforcement learning, have captured the industry's attention and sparked excitement about the possibilities of AI. Industry collaborations and partnerships are fostering innovation and accelerating the pace of AI development. Regulatory developments are also impacting AI adoption, with governments and organizations working to establish guidelines and standards for ethical AI use. Case studies of successful AI implementations showcase the tangible benefits of adopting AI technologies in various sectors, from healthcare to finance.\n",
      "\n",
      "**Conclusion:**\n",
      "As AI continues to evolve and shape the future of technology, staying informed about the latest trends and key players in the industry is essential for tech enthusiasts, industry professionals, and business leaders. By understanding the advancements in AI technologies and the contributions of key players, individuals can make informed decisions and stay ahead of the curve in the rapidly evolving AI landscape. Subscribe for regular updates on AI trends and news to stay informed and engaged with the exciting developments in artificial intelligence.\n",
      "\n",
      "\u001b[00m\n"
     ]
    }
   ],
   "source": [
    "result = crew.kickoff(inputs={\"topic\": \"Artificial Intelligence\"})"
   ]
  },
  {
   "cell_type": "markdown",
   "metadata": {},
   "source": [
    "- Display the results of your execution as markdown in the notebook."
   ]
  },
  {
   "cell_type": "code",
   "execution_count": 13,
   "metadata": {
    "height": 47
   },
   "outputs": [
    {
     "data": {
      "text/markdown": [
       "# The Future of Artificial Intelligence: Latest Trends and Key Players\n",
       "\n",
       "**Introduction:**\n",
       "Artificial Intelligence (AI) has been rapidly advancing in recent years, reshaping various industries and revolutionizing the way we interact with technology. Key players in the AI industry, such as Google, Microsoft, and Amazon, have been at the forefront of driving innovation and pushing the boundaries of what AI can achieve. In this blog post, we will explore the latest trends in artificial intelligence and delve into the key players shaping the future of AI.\n",
       "\n",
       "**Latest Trends in Artificial Intelligence:**\n",
       "One of the most significant trends in AI is the advancements in machine learning and deep learning algorithms, enabling machines to learn from data and make predictions without explicit programming. Natural language processing and sentiment analysis have also seen significant progress, allowing AI systems to understand and generate human language with increasing accuracy. AI is increasingly being applied in healthcare, finance, and other industries, transforming processes and improving efficiency. However, as AI continues to evolve, ethical considerations in its development have become more prominent, raising questions about privacy, bias, and accountability.\n",
       "\n",
       "**Key Players in the AI Industry:**\n",
       "Tech giants like Google, Microsoft, and Amazon are leading the way in AI research and development, leveraging their resources and expertise to drive innovation. In addition to established companies, startups are disrupting the AI space with fresh ideas and agile approaches. Research institutions and academia play a crucial role in advancing AI technologies, collaborating with industry partners to push the boundaries of what AI can achieve. Influential AI experts and thought leaders are also shaping the conversation around AI, sharing insights and driving the industry forward.\n",
       "\n",
       "**Noteworthy News in Artificial Intelligence:**\n",
       "Recent breakthroughs in AI research, such as advancements in computer vision and reinforcement learning, have captured the industry's attention and sparked excitement about the possibilities of AI. Industry collaborations and partnerships are fostering innovation and accelerating the pace of AI development. Regulatory developments are also impacting AI adoption, with governments and organizations working to establish guidelines and standards for ethical AI use. Case studies of successful AI implementations showcase the tangible benefits of adopting AI technologies in various sectors, from healthcare to finance.\n",
       "\n",
       "**Conclusion:**\n",
       "As AI continues to evolve and shape the future of technology, staying informed about the latest trends and key players in the industry is essential for tech enthusiasts, industry professionals, and business leaders. By understanding the advancements in AI technologies and the contributions of key players, individuals can make informed decisions and stay ahead of the curve in the rapidly evolving AI landscape. Subscribe for regular updates on AI trends and news to stay informed and engaged with the exciting developments in artificial intelligence."
      ],
      "text/plain": [
       "<IPython.core.display.Markdown object>"
      ]
     },
     "execution_count": 13,
     "metadata": {},
     "output_type": "execute_result"
    }
   ],
   "source": [
    "from IPython.display import Markdown\n",
    "Markdown(result)"
   ]
  },
  {
   "cell_type": "markdown",
   "metadata": {},
   "source": [
    "## Try it Yourself\n",
    "\n",
    "- Pass in a topic of your choice and see what the agents come up with!"
   ]
  },
  {
   "cell_type": "code",
   "execution_count": 16,
   "metadata": {
    "height": 47
   },
   "outputs": [
    {
     "name": "stdout",
     "output_type": "stream",
     "text": [
      "\u001b[1m\u001b[95m [DEBUG]: == Working Agent: Content Planner\u001b[00m\n",
      "\u001b[1m\u001b[95m [INFO]: == Starting Task: 1. Prioritize the latest trends, key players, and noteworthy news on Nha Trang.\n",
      "2. Identify the target audience, considering their interests and pain points.\n",
      "3. Develop a detailed content outline including an introduction, key points, and a call to action.\n",
      "4. Include SEO keywords and relevant data or sources.\u001b[00m\n",
      "\n",
      "\n",
      "\u001b[1m> Entering new CrewAgentExecutor chain...\u001b[0m\n",
      "\u001b[32;1m\u001b[1;3mI now can give a great answer\n",
      "\n",
      "Final Answer: \n",
      "\n",
      "Content Plan for Blog Article on Nha Trang\n",
      "\n",
      "Title: Exploring the Beauty of Nha Trang: A Guide to the Latest Trends and Key Players\n",
      "\n",
      "Outline:\n",
      "I. Introduction\n",
      "- Brief overview of Nha Trang as a popular tourist destination in Vietnam\n",
      "- Mention of the latest trends and key players in the area\n",
      "\n",
      "II. Latest Trends in Nha Trang\n",
      "- Rise of eco-friendly and sustainable tourism practices\n",
      "- Growing popularity of wellness retreats and spa resorts\n",
      "- Emergence of local craft markets and artisanal shops\n",
      "\n",
      "III. Key Players in Nha Trang\n",
      "- Leading hotels and resorts offering unique experiences\n",
      "- Top-rated restaurants showcasing authentic Vietnamese cuisine\n",
      "- Local tour operators providing immersive cultural experiences\n",
      "\n",
      "IV. Target Audience\n",
      "- Travel enthusiasts looking for off-the-beaten-path destinations\n",
      "- Wellness seekers interested in rejuvenating experiences\n",
      "- Foodies eager to explore the local culinary scene\n",
      "\n",
      "V. SEO Keywords\n",
      "- Nha Trang travel guide\n",
      "- Eco-friendly tourism in Nha Trang\n",
      "- Best hotels in Nha Trang\n",
      "- Authentic Vietnamese cuisine Nha Trang\n",
      "\n",
      "VI. Call to Action\n",
      "- Encourage readers to plan their own trip to Nha Trang\n",
      "- Provide links to reputable tour operators and accommodation options\n",
      "- Invite feedback and comments from those who have visited Nha Trang\n",
      "\n",
      "Resources:\n",
      "1. Official website of Nha Trang Tourism Board\n",
      "2. TripAdvisor reviews of top-rated attractions in Nha Trang\n",
      "3. Local blogs and travel guides on Nha Trang\n",
      "\n",
      "By following this content plan, the blog article on Nha Trang will provide readers with valuable insights into the latest trends, key players, and noteworthy news in the area, helping them make informed decisions when planning their trip to this beautiful destination.\u001b[0m\n",
      "\n",
      "\u001b[1m> Finished chain.\u001b[0m\n",
      "\u001b[1m\u001b[92m [DEBUG]: == [Content Planner] Task output: Content Plan for Blog Article on Nha Trang\n",
      "\n",
      "Title: Exploring the Beauty of Nha Trang: A Guide to the Latest Trends and Key Players\n",
      "\n",
      "Outline:\n",
      "I. Introduction\n",
      "- Brief overview of Nha Trang as a popular tourist destination in Vietnam\n",
      "- Mention of the latest trends and key players in the area\n",
      "\n",
      "II. Latest Trends in Nha Trang\n",
      "- Rise of eco-friendly and sustainable tourism practices\n",
      "- Growing popularity of wellness retreats and spa resorts\n",
      "- Emergence of local craft markets and artisanal shops\n",
      "\n",
      "III. Key Players in Nha Trang\n",
      "- Leading hotels and resorts offering unique experiences\n",
      "- Top-rated restaurants showcasing authentic Vietnamese cuisine\n",
      "- Local tour operators providing immersive cultural experiences\n",
      "\n",
      "IV. Target Audience\n",
      "- Travel enthusiasts looking for off-the-beaten-path destinations\n",
      "- Wellness seekers interested in rejuvenating experiences\n",
      "- Foodies eager to explore the local culinary scene\n",
      "\n",
      "V. SEO Keywords\n",
      "- Nha Trang travel guide\n",
      "- Eco-friendly tourism in Nha Trang\n",
      "- Best hotels in Nha Trang\n",
      "- Authentic Vietnamese cuisine Nha Trang\n",
      "\n",
      "VI. Call to Action\n",
      "- Encourage readers to plan their own trip to Nha Trang\n",
      "- Provide links to reputable tour operators and accommodation options\n",
      "- Invite feedback and comments from those who have visited Nha Trang\n",
      "\n",
      "Resources:\n",
      "1. Official website of Nha Trang Tourism Board\n",
      "2. TripAdvisor reviews of top-rated attractions in Nha Trang\n",
      "3. Local blogs and travel guides on Nha Trang\n",
      "\n",
      "By following this content plan, the blog article on Nha Trang will provide readers with valuable insights into the latest trends, key players, and noteworthy news in the area, helping them make informed decisions when planning their trip to this beautiful destination.\n",
      "\n",
      "\u001b[00m\n",
      "\u001b[1m\u001b[95m [DEBUG]: == Working Agent: Content Writer\u001b[00m\n",
      "\u001b[1m\u001b[95m [INFO]: == Starting Task: 1. Use the content plan to craft a compelling blog post on Nha Trang.\n",
      "2. Incorporate SEO keywords naturally.\n",
      "3. Sections/Subtitles are properly named in an engaging manner.\n",
      "4. Ensure the post is structured with an engaging introduction, insightful body, and a summarizing conclusion.\n",
      "5. Proofread for grammatical errors and alignment with the brand's voice.\n",
      "\u001b[00m\n",
      "\n",
      "\n",
      "\u001b[1m> Entering new CrewAgentExecutor chain...\u001b[0m\n",
      "\u001b[32;1m\u001b[1;3mI now can give a great answer\n",
      "\n",
      "Final Answer:\n",
      "\n",
      "# Exploring the Beauty of Nha Trang: A Guide to the Latest Trends and Key Players\n",
      "\n",
      "## Introduction\n",
      "Nha Trang, a picturesque coastal city in Vietnam, has long been known for its stunning beaches and vibrant culture, making it a popular tourist destination. In recent years, Nha Trang has seen a surge in eco-friendly and sustainable tourism practices, as well as an increase in wellness retreats and spa resorts. This article will delve into the latest trends and key players in Nha Trang, offering insights for travelers looking to explore this hidden gem.\n",
      "\n",
      "## Latest Trends in Nha Trang\n",
      "One of the notable trends in Nha Trang is the rise of eco-friendly and sustainable tourism practices. From beach clean-up initiatives to eco-friendly accommodations, the city is making strides towards preserving its natural beauty for future generations. Additionally, wellness retreats and spa resorts have become increasingly popular, offering travelers a chance to rejuvenate and unwind in a tranquil setting. Nha Trang has also seen the emergence of local craft markets and artisanal shops, providing visitors with a chance to support local artisans and take home unique souvenirs.\n",
      "\n",
      "## Key Players in Nha Trang\n",
      "Nha Trang is home to leading hotels and resorts that offer unique and luxurious experiences for guests. From beachfront villas to boutique hotels, travelers are spoiled for choice when it comes to accommodations in Nha Trang. The city also boasts top-rated restaurants that showcase authentic Vietnamese cuisine, tantalizing the taste buds of foodies from around the world. Local tour operators play a crucial role in providing immersive cultural experiences, giving visitors a chance to explore the rich history and traditions of Nha Trang.\n",
      "\n",
      "## Target Audience\n",
      "This article is tailored to travel enthusiasts seeking off-the-beaten-path destinations, wellness seekers looking for rejuvenating experiences, and foodies eager to explore the local culinary scene. Whether you're interested in eco-friendly tourism, luxurious accommodations, or authentic Vietnamese cuisine, Nha Trang has something to offer for every type of traveler.\n",
      "\n",
      "## SEO Keywords\n",
      "- Nha Trang travel guide\n",
      "- Eco-friendly tourism in Nha Trang\n",
      "- Best hotels in Nha Trang\n",
      "- Authentic Vietnamese cuisine Nha Trang\n",
      "\n",
      "## Call to Action\n",
      "As you plan your trip to Nha Trang, consider exploring the latest trends and key players mentioned in this article. Check out reputable tour operators and accommodation options to make the most of your visit. Share your experience and leave feedback for fellow travelers who are looking to discover the beauty of Nha Trang.\n",
      "\n",
      "By following this guide, you'll be well-equipped to embark on a memorable journey to Nha Trang, where the beauty of the city and the warmth of its people await you. Happy travels!\u001b[0m\n",
      "\n",
      "\u001b[1m> Finished chain.\u001b[0m\n",
      "\u001b[1m\u001b[92m [DEBUG]: == [Content Writer] Task output: # Exploring the Beauty of Nha Trang: A Guide to the Latest Trends and Key Players\n",
      "\n",
      "## Introduction\n",
      "Nha Trang, a picturesque coastal city in Vietnam, has long been known for its stunning beaches and vibrant culture, making it a popular tourist destination. In recent years, Nha Trang has seen a surge in eco-friendly and sustainable tourism practices, as well as an increase in wellness retreats and spa resorts. This article will delve into the latest trends and key players in Nha Trang, offering insights for travelers looking to explore this hidden gem.\n",
      "\n",
      "## Latest Trends in Nha Trang\n",
      "One of the notable trends in Nha Trang is the rise of eco-friendly and sustainable tourism practices. From beach clean-up initiatives to eco-friendly accommodations, the city is making strides towards preserving its natural beauty for future generations. Additionally, wellness retreats and spa resorts have become increasingly popular, offering travelers a chance to rejuvenate and unwind in a tranquil setting. Nha Trang has also seen the emergence of local craft markets and artisanal shops, providing visitors with a chance to support local artisans and take home unique souvenirs.\n",
      "\n",
      "## Key Players in Nha Trang\n",
      "Nha Trang is home to leading hotels and resorts that offer unique and luxurious experiences for guests. From beachfront villas to boutique hotels, travelers are spoiled for choice when it comes to accommodations in Nha Trang. The city also boasts top-rated restaurants that showcase authentic Vietnamese cuisine, tantalizing the taste buds of foodies from around the world. Local tour operators play a crucial role in providing immersive cultural experiences, giving visitors a chance to explore the rich history and traditions of Nha Trang.\n",
      "\n",
      "## Target Audience\n",
      "This article is tailored to travel enthusiasts seeking off-the-beaten-path destinations, wellness seekers looking for rejuvenating experiences, and foodies eager to explore the local culinary scene. Whether you're interested in eco-friendly tourism, luxurious accommodations, or authentic Vietnamese cuisine, Nha Trang has something to offer for every type of traveler.\n",
      "\n",
      "## SEO Keywords\n",
      "- Nha Trang travel guide\n",
      "- Eco-friendly tourism in Nha Trang\n",
      "- Best hotels in Nha Trang\n",
      "- Authentic Vietnamese cuisine Nha Trang\n",
      "\n",
      "## Call to Action\n",
      "As you plan your trip to Nha Trang, consider exploring the latest trends and key players mentioned in this article. Check out reputable tour operators and accommodation options to make the most of your visit. Share your experience and leave feedback for fellow travelers who are looking to discover the beauty of Nha Trang.\n",
      "\n",
      "By following this guide, you'll be well-equipped to embark on a memorable journey to Nha Trang, where the beauty of the city and the warmth of its people await you. Happy travels!\n",
      "\n",
      "\u001b[00m\n",
      "\u001b[1m\u001b[95m [DEBUG]: == Working Agent: Editor\u001b[00m\n",
      "\u001b[1m\u001b[95m [INFO]: == Starting Task: Proofread the given blog post for grammatical errors and alignment with the brand's voice.\u001b[00m\n",
      "\n",
      "\n",
      "\u001b[1m> Entering new CrewAgentExecutor chain...\u001b[0m\n"
     ]
    },
    {
     "name": "stdout",
     "output_type": "stream",
     "text": [
      "\u001b[32;1m\u001b[1;3mI now can give a great answer\n",
      "\n",
      "Final Answer:\n",
      "\n",
      "# Exploring the Beauty of Nha Trang: A Guide to the Latest Trends and Key Players\n",
      "\n",
      "## Introduction\n",
      "Nha Trang, a picturesque coastal city in Vietnam, has long been known for its stunning beaches and vibrant culture, making it a popular tourist destination. In recent years, Nha Trang has seen a surge in eco-friendly and sustainable tourism practices, as well as an increase in wellness retreats and spa resorts. This article delves into the latest trends and key players in Nha Trang, offering insights for travelers looking to explore this hidden gem.\n",
      "\n",
      "## Latest Trends in Nha Trang\n",
      "One of the notable trends in Nha Trang is the rise of eco-friendly and sustainable tourism practices. From beach clean-up initiatives to eco-friendly accommodations, the city is making strides towards preserving its natural beauty for future generations. Additionally, wellness retreats and spa resorts have become increasingly popular, offering travelers a chance to rejuvenate and unwind in a tranquil setting. Nha Trang has also seen the emergence of local craft markets and artisanal shops, providing visitors with a chance to support local artisans and take home unique souvenirs.\n",
      "\n",
      "## Key Players in Nha Trang\n",
      "Nha Trang is home to leading hotels and resorts that offer unique and luxurious experiences for guests. From beachfront villas to boutique hotels, travelers are spoiled for choice when it comes to accommodations in Nha Trang. The city also boasts top-rated restaurants that showcase authentic Vietnamese cuisine, tantalizing the taste buds of foodies from around the world. Local tour operators play a crucial role in providing immersive cultural experiences, giving visitors a chance to explore the rich history and traditions of Nha Trang.\n",
      "\n",
      "## Target Audience\n",
      "This article is tailored to travel enthusiasts seeking off-the-beaten-path destinations, wellness seekers looking for rejuvenating experiences, and foodies eager to explore the local culinary scene. Whether you're interested in eco-friendly tourism, luxurious accommodations, or authentic Vietnamese cuisine, Nha Trang has something to offer for every type of traveler.\n",
      "\n",
      "## SEO Keywords\n",
      "- Nha Trang travel guide\n",
      "- Eco-friendly tourism in Nha Trang\n",
      "- Best hotels in Nha Trang\n",
      "- Authentic Vietnamese cuisine Nha Trang\n",
      "\n",
      "## Call to Action\n",
      "As you plan your trip to Nha Trang, consider exploring the latest trends and key players mentioned in this article. Check out reputable tour operators and accommodation options to make the most of your visit. Share your experience and leave feedback for fellow travelers who are looking to discover the beauty of Nha Trang.\n",
      "\n",
      "By following this guide, you'll be well-equipped to embark on a memorable journey to Nha Trang, where the beauty of the city and the warmth of its people await you. Happy travels!\u001b[0m\n",
      "\n",
      "\u001b[1m> Finished chain.\u001b[0m\n",
      "\u001b[1m\u001b[92m [DEBUG]: == [Editor] Task output: # Exploring the Beauty of Nha Trang: A Guide to the Latest Trends and Key Players\n",
      "\n",
      "## Introduction\n",
      "Nha Trang, a picturesque coastal city in Vietnam, has long been known for its stunning beaches and vibrant culture, making it a popular tourist destination. In recent years, Nha Trang has seen a surge in eco-friendly and sustainable tourism practices, as well as an increase in wellness retreats and spa resorts. This article delves into the latest trends and key players in Nha Trang, offering insights for travelers looking to explore this hidden gem.\n",
      "\n",
      "## Latest Trends in Nha Trang\n",
      "One of the notable trends in Nha Trang is the rise of eco-friendly and sustainable tourism practices. From beach clean-up initiatives to eco-friendly accommodations, the city is making strides towards preserving its natural beauty for future generations. Additionally, wellness retreats and spa resorts have become increasingly popular, offering travelers a chance to rejuvenate and unwind in a tranquil setting. Nha Trang has also seen the emergence of local craft markets and artisanal shops, providing visitors with a chance to support local artisans and take home unique souvenirs.\n",
      "\n",
      "## Key Players in Nha Trang\n",
      "Nha Trang is home to leading hotels and resorts that offer unique and luxurious experiences for guests. From beachfront villas to boutique hotels, travelers are spoiled for choice when it comes to accommodations in Nha Trang. The city also boasts top-rated restaurants that showcase authentic Vietnamese cuisine, tantalizing the taste buds of foodies from around the world. Local tour operators play a crucial role in providing immersive cultural experiences, giving visitors a chance to explore the rich history and traditions of Nha Trang.\n",
      "\n",
      "## Target Audience\n",
      "This article is tailored to travel enthusiasts seeking off-the-beaten-path destinations, wellness seekers looking for rejuvenating experiences, and foodies eager to explore the local culinary scene. Whether you're interested in eco-friendly tourism, luxurious accommodations, or authentic Vietnamese cuisine, Nha Trang has something to offer for every type of traveler.\n",
      "\n",
      "## SEO Keywords\n",
      "- Nha Trang travel guide\n",
      "- Eco-friendly tourism in Nha Trang\n",
      "- Best hotels in Nha Trang\n",
      "- Authentic Vietnamese cuisine Nha Trang\n",
      "\n",
      "## Call to Action\n",
      "As you plan your trip to Nha Trang, consider exploring the latest trends and key players mentioned in this article. Check out reputable tour operators and accommodation options to make the most of your visit. Share your experience and leave feedback for fellow travelers who are looking to discover the beauty of Nha Trang.\n",
      "\n",
      "By following this guide, you'll be well-equipped to embark on a memorable journey to Nha Trang, where the beauty of the city and the warmth of its people await you. Happy travels!\n",
      "\n",
      "\u001b[00m\n"
     ]
    }
   ],
   "source": [
    "topic = \"Nha Trang\"\n",
    "result = crew.kickoff(inputs={\"topic\": topic})"
   ]
  },
  {
   "cell_type": "code",
   "execution_count": 17,
   "metadata": {
    "height": 30
   },
   "outputs": [
    {
     "data": {
      "text/markdown": [
       "# Exploring the Beauty of Nha Trang: A Guide to the Latest Trends and Key Players\n",
       "\n",
       "## Introduction\n",
       "Nha Trang, a picturesque coastal city in Vietnam, has long been known for its stunning beaches and vibrant culture, making it a popular tourist destination. In recent years, Nha Trang has seen a surge in eco-friendly and sustainable tourism practices, as well as an increase in wellness retreats and spa resorts. This article delves into the latest trends and key players in Nha Trang, offering insights for travelers looking to explore this hidden gem.\n",
       "\n",
       "## Latest Trends in Nha Trang\n",
       "One of the notable trends in Nha Trang is the rise of eco-friendly and sustainable tourism practices. From beach clean-up initiatives to eco-friendly accommodations, the city is making strides towards preserving its natural beauty for future generations. Additionally, wellness retreats and spa resorts have become increasingly popular, offering travelers a chance to rejuvenate and unwind in a tranquil setting. Nha Trang has also seen the emergence of local craft markets and artisanal shops, providing visitors with a chance to support local artisans and take home unique souvenirs.\n",
       "\n",
       "## Key Players in Nha Trang\n",
       "Nha Trang is home to leading hotels and resorts that offer unique and luxurious experiences for guests. From beachfront villas to boutique hotels, travelers are spoiled for choice when it comes to accommodations in Nha Trang. The city also boasts top-rated restaurants that showcase authentic Vietnamese cuisine, tantalizing the taste buds of foodies from around the world. Local tour operators play a crucial role in providing immersive cultural experiences, giving visitors a chance to explore the rich history and traditions of Nha Trang.\n",
       "\n",
       "## Target Audience\n",
       "This article is tailored to travel enthusiasts seeking off-the-beaten-path destinations, wellness seekers looking for rejuvenating experiences, and foodies eager to explore the local culinary scene. Whether you're interested in eco-friendly tourism, luxurious accommodations, or authentic Vietnamese cuisine, Nha Trang has something to offer for every type of traveler.\n",
       "\n",
       "## SEO Keywords\n",
       "- Nha Trang travel guide\n",
       "- Eco-friendly tourism in Nha Trang\n",
       "- Best hotels in Nha Trang\n",
       "- Authentic Vietnamese cuisine Nha Trang\n",
       "\n",
       "## Call to Action\n",
       "As you plan your trip to Nha Trang, consider exploring the latest trends and key players mentioned in this article. Check out reputable tour operators and accommodation options to make the most of your visit. Share your experience and leave feedback for fellow travelers who are looking to discover the beauty of Nha Trang.\n",
       "\n",
       "By following this guide, you'll be well-equipped to embark on a memorable journey to Nha Trang, where the beauty of the city and the warmth of its people await you. Happy travels!"
      ],
      "text/plain": [
       "<IPython.core.display.Markdown object>"
      ]
     },
     "execution_count": 17,
     "metadata": {},
     "output_type": "execute_result"
    }
   ],
   "source": [
    "Markdown(result)"
   ]
  },
  {
   "cell_type": "markdown",
   "metadata": {},
   "source": [
    "<a name='1'></a>\n",
    " ## Other Popular Models as LLM for your Agents"
   ]
  },
  {
   "cell_type": "markdown",
   "metadata": {},
   "source": [
    "#### Hugging Face (HuggingFaceHub endpoint)\n",
    "\n",
    "```Python\n",
    "from langchain_community.llms import HuggingFaceHub\n",
    "\n",
    "llm = HuggingFaceHub(\n",
    "    repo_id=\"HuggingFaceH4/zephyr-7b-beta\",\n",
    "    huggingfacehub_api_token=\"<HF_TOKEN_HERE>\",\n",
    "    task=\"text-generation\",\n",
    ")\n",
    "\n",
    "### you will pass \"llm\" to your agent function\n",
    "```"
   ]
  },
  {
   "cell_type": "markdown",
   "metadata": {},
   "source": [
    "#### Mistral API\n",
    "\n",
    "```Python\n",
    "OPENAI_API_KEY=your-mistral-api-key\n",
    "OPENAI_API_BASE=https://api.mistral.ai/v1\n",
    "OPENAI_MODEL_NAME=\"mistral-small\"\n",
    "```"
   ]
  },
  {
   "cell_type": "markdown",
   "metadata": {},
   "source": [
    "#### Cohere\n",
    "\n",
    "```Python\n",
    "from langchain_community.chat_models import ChatCohere\n",
    "# Initialize language model\n",
    "os.environ[\"COHERE_API_KEY\"] = \"your-cohere-api-key\"\n",
    "llm = ChatCohere()\n",
    "\n",
    "### you will pass \"llm\" to your agent function\n",
    "```"
   ]
  },
  {
   "cell_type": "markdown",
   "metadata": {},
   "source": [
    "### For using Llama locally with Ollama and more, checkout the crewAI documentation on [Connecting to any LLM](https://docs.crewai.com/how-to/LLM-Connections/)."
   ]
  },
  {
   "cell_type": "code",
   "execution_count": null,
   "metadata": {
    "height": 30
   },
   "outputs": [],
   "source": []
  },
  {
   "cell_type": "code",
   "execution_count": null,
   "metadata": {
    "height": 30
   },
   "outputs": [],
   "source": []
  },
  {
   "cell_type": "code",
   "execution_count": null,
   "metadata": {
    "height": 30
   },
   "outputs": [],
   "source": []
  }
 ],
 "metadata": {
  "colab": {
   "gpuType": "T4",
   "provenance": []
  },
  "kernelspec": {
   "display_name": "Python 3 (ipykernel)",
   "language": "python",
   "name": "python3"
  },
  "language_info": {
   "codemirror_mode": {
    "name": "ipython",
    "version": 3
   },
   "file_extension": ".py",
   "mimetype": "text/x-python",
   "name": "python",
   "nbconvert_exporter": "python",
   "pygments_lexer": "ipython3",
   "version": "3.11.9"
  }
 },
 "nbformat": 4,
 "nbformat_minor": 4
}
